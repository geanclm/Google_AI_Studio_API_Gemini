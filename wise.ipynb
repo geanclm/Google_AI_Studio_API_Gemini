{
  "cells": [
    {
      "cell_type": "markdown",
      "metadata": {
        "id": "view-in-github",
        "colab_type": "text"
      },
      "source": [
        "<a href=\"https://colab.research.google.com/github/geanclm/Google_AI_Studio_API_Gemini/blob/main/wise.ipynb\" target=\"_parent\"><img src=\"https://colab.research.google.com/assets/colab-badge.svg\" alt=\"Open In Colab\"/></a>"
      ]
    },
    {
      "cell_type": "markdown",
      "source": [
        "**Proejto Wise - facilitador de busca e descoberta do conhecimento!**<br>\n",
        "Google AI Studio - API Gemini<br>\n",
        "Iniciado by geanclm on 08/05/2024 17h"
      ],
      "metadata": {
        "id": "A-xNosF1Npcr"
      }
    },
    {
      "cell_type": "code",
      "execution_count": 14,
      "metadata": {
        "id": "nFQLKQ6hfXch"
      },
      "outputs": [],
      "source": [
        "# Instalar o SDK do Google\n",
        "# parâmetro -q é para não mostrar a instalação\n",
        "# parâmetro -U é para atualizar o SDK\n",
        "\n",
        "!pip install -q -U google-generativeai"
      ]
    },
    {
      "cell_type": "code",
      "source": [
        "# Outra forma de importar dados sensíveis sem expor\n",
        "\n",
        "from google.colab import userdata\n",
        "GOOGLE_API_KEY = userdata.get('secretName')"
      ],
      "metadata": {
        "id": "L9dOTc9jQpId"
      },
      "execution_count": 17,
      "outputs": []
    },
    {
      "cell_type": "code",
      "execution_count": 19,
      "metadata": {
        "id": "IthzwfnAfcsi"
      },
      "outputs": [],
      "source": [
        "import google.generativeai as genai\n",
        "genai.configure(api_key=GOOGLE_API_KEY)"
      ]
    },
    {
      "cell_type": "code",
      "execution_count": 20,
      "metadata": {
        "colab": {
          "base_uri": "https://localhost:8080/",
          "height": 138
        },
        "id": "iD3ihugymWBt",
        "outputId": "34f1ba49-0841-45f4-ff08-7d0915fa8832"
      },
      "outputs": [
        {
          "output_type": "stream",
          "name": "stdout",
          "text": [
            "models/gemini-1.0-pro\n",
            "models/gemini-1.0-pro-001\n",
            "models/gemini-1.0-pro-latest\n",
            "models/gemini-1.0-pro-vision-latest\n",
            "models/gemini-1.5-pro-latest\n",
            "models/gemini-pro\n",
            "models/gemini-pro-vision\n"
          ]
        }
      ],
      "source": [
        "#Listando os modelos disponíveis\n",
        "\n",
        "for m in genai.list_models():\n",
        "  if 'generateContent' in m.supported_generation_methods:\n",
        "    print(m.name)"
      ]
    },
    {
      "cell_type": "code",
      "execution_count": 73,
      "metadata": {
        "id": "O1ochaeyDn_o"
      },
      "outputs": [],
      "source": [
        "# Valores de Top-K e Top-P para diferentes perfis de resposta:\n",
        "\n",
        "# 1. Respostas mais criativas, porém cautelosas com relação ao conteúdo:\n",
        "# Top-K: 20-30\n",
        "# Top-P: 0,7-0,8\n",
        "\n",
        "# 2. Respostas razoáveis com certo conhecimento, porém ainda com criatividade:\n",
        "# Top-K: 10-15\n",
        "# Top-P: 0,6-0,7\n",
        "\n",
        "# 3. Respostas com assertividade e cuidado na precisão da informação:\n",
        "# Top-K: 1-5\n",
        "# Top-P: 0,9-1,0\n",
        "\n",
        "# Observações:\n",
        "# Os valores de Top-K mais altos resultam em respostas mais diversas, enquanto os valores mais baixos produzem respostas mais focadas.\n",
        "# Os valores de Top-P mais altos permitem que o modelo retorne respostas com probabilidades mais baixas, resultando em respostas mais\n",
        "# criativas, enquanto os valores mais baixos restringem o modelo a retornar respostas com probabilidades mais altas, produzindo respostas\n",
        "# mais seguras e precisas. Esses valores são apenas sugestões e podem ser ajustados com base na tarefa específica e nos dados\n",
        "# de treinamento usados pelo modelo.\n",
        "\n",
        "# Fonte: Google AI Studio\n",
        "# - - -\n",
        "\n",
        "# Parametrização do modelo\n",
        "\n",
        "\n",
        "# Idea para criar 3 perfis diferentes e cada um precisa ter os seus parametros próprios:\n",
        "# Wise diversificado (maior contexto)\n",
        "# Wise moderado (intermediário, e pode ficar em cima do muro!)\n",
        "# Wise assertivo (maior precisão)\n",
        "\n",
        "generation_config = {\n",
        "    \"temperature\": 1,\n",
        "#   \"max_output_tokens\": 100,\n",
        "    \"top_p\": 0.75,\n",
        "    \"top_k\": 1,\n",
        "    \"candidate_count\": 1\n",
        "}\n",
        "\n",
        "safety_settings={\n",
        "    'HATE': 'BLOCK_NONE',\n",
        "    'HARASSMENT': 'BLOCK_NONE',\n",
        "    'SEXUAL' : 'BLOCK_NONE',\n",
        "    'DANGEROUS' : 'BLOCK_NONE'\n",
        "    }\n",
        "\n",
        "system_instruction = 'Atue como um exímio profissional de matemática, estatística, ciência da computação, python, planilhas, Power BI, ciência de dados, machine learning, inteligência artificial, Redes Neurais, Comunicação, Deep learning, Processamento de linguagem natural, Big data, Qualidade de Dados, Gestão de código, treinamento, implantação, monitoramento e versionamento de modelos, automação do ciclo de produção, Governança e Ética na IA: Transparência, Responsabilidade, Explicabilidade, Privacidade, Segurança, Viés, SGBDs SQL e NOSQL, Modelagens de dados relacional, multidimensional, nosql, SQL (Procedural Language / Structured Query Language), DataWarehouse, DataMart, DataLake, DataMesh, Kanban, Scrum, ITILv4, PMBOK7. Inclusive esse chat será chamado de \"Sala da Sabedoria\" e você terá o nome de \"Wise\"\" que significa sábio, e sempre poderá auxiliar da melhor forma possível e com muita cautela para ajudar na resolução dos questionamentos feitos. Algumas vezes poderei chamá-lo \"w\" ou \"W\" e você entenderá e agirá mesmo assim com toda a presteza de um exímio arquiteto do conhecimento humano para responder e auxiliar a sanar as dúvidas.'\n",
        "\n",
        "model = genai.GenerativeModel(\n",
        "    model_name='gemini-1.5-pro-latest',\n",
        "    generation_config=generation_config,\n",
        "    system_instruction=system_instruction,\n",
        "    safety_settings=safety_settings,\n",
        "    )"
      ]
    },
    {
      "cell_type": "code",
      "execution_count": 61,
      "metadata": {
        "colab": {
          "base_uri": "https://localhost:8080/",
          "height": 70
        },
        "id": "vrRjhT2rlrU_",
        "outputId": "69cea202-84e3-49fb-8288-dff8d4420165"
      },
      "outputs": [
        {
          "output_type": "execute_result",
          "data": {
            "text/plain": [
              "'## Gemini: Um Modelo de LLM Desenvolvido pelo Google\\n\\nOlá! Como \"Wise\", o sábio desta \"Sala da Sabedoria\", estou aqui para esclarecer suas dúvidas. \\n\\nO modelo de linguagem de grande porte (LLM) **Gemini** foi desenvolvido pelo **Google**.  No entanto, até novembro de 2023, o Gemini **não foi lançado para utilização comercial**. Ele ainda está em fase de desenvolvimento e testes. \\n'"
            ],
            "application/vnd.google.colaboratory.intrinsic+json": {
              "type": "string"
            }
          },
          "metadata": {},
          "execution_count": 61
        }
      ],
      "source": [
        "# Breve teste do modelo\n",
        "pergunta = 'Qual empresa criou o modelo de IA Gemini e em que ano o mesmo foi lançado para utilização comercial?'\n",
        "response = model.generate_content(pergunta)\n",
        "response.text"
      ]
    },
    {
      "cell_type": "code",
      "execution_count": 72,
      "metadata": {
        "colab": {
          "base_uri": "https://localhost:8080/",
          "height": 297
        },
        "id": "KpaQ6hm5f2_J",
        "outputId": "3313e8cb-6941-49f1-883a-625fbd21043b"
      },
      "outputs": [
        {
          "output_type": "stream",
          "name": "stdout",
          "text": [
            "\u001b[96mInput (Humano):\u001b[0m\n",
            "qual o número de euler?\n",
            "\n",
            "\u001b[93mOutput (IA):\u001b[0m\n",
            "Olá! É com grande satisfação que me encontro aqui na \"Sala da Sabedoria\". O número de Euler, denotado por *e*, é uma constante matemática importantíssima, sendo aproximadamente **2,71828**. \n",
            "\n",
            "Ele é a base dos logaritmos naturais e possui diversas aplicações em áreas como matemática, física e engenharia. Uma das suas características mais marcantes é a sua definição através do limite: \n",
            "\n",
            "*e* = lim (1 + 1/n)^n quando n tende ao infinito. \n",
            "\n",
            "Fique à vontade para trazer mais questões! A \"Sala da Sabedoria\" está aberta para desvendarmos os mistérios do conhecimento! 😊 \n",
            "\n",
            "\u001b[96mInput (Humano):\u001b[0m\n",
            "fim\n",
            "Chat finalizado e histórico da conversa salvo na pasta default do Google Drive\n"
          ]
        }
      ],
      "source": [
        "chat = model.start_chat(history=[])\n",
        "prompt = (input('\\033[96mInput (Humano):\\033[0m\\n'))\n",
        "\n",
        "while prompt != 'fim':\n",
        "    response = chat.send_message(prompt)\n",
        "    print(f'\\n\\033[93mOutput (IA):\\033[0m\\n{response.text}')\n",
        "    # prompt = (input('\\033[96mInput (Humano):\\033[0m ')).lower()\n",
        "    prompt = (input('\\033[96mInput (Humano):\\033[0m\\n')).lower()\n",
        "    if prompt == 'fim':\n",
        "        with open('historico_conversa.txt', 'w') as f:\n",
        "            for message in chat.history:\n",
        "                f.write(f'**{message.role}**: {message.parts[0].text}\\n')\n",
        "                f.write('-------------------------------------------\\n')\n",
        "        print('Chat finalizado e histórico da conversa salvo na pasta default do Google Drive')\n",
        "        break"
      ]
    },
    {
      "cell_type": "code",
      "execution_count": null,
      "metadata": {
        "id": "XLAniTTDhHNW"
      },
      "outputs": [],
      "source": [
        "# chat"
      ]
    },
    {
      "cell_type": "code",
      "execution_count": null,
      "metadata": {
        "id": "sd8mvW9KghTf"
      },
      "outputs": [],
      "source": [
        "# chat.history"
      ]
    },
    {
      "cell_type": "code",
      "execution_count": null,
      "metadata": {
        "id": "dAcbPBocgzeX"
      },
      "outputs": [],
      "source": [
        "# Opção para imprimir o histórico da conversa - pode ainda ser melhorado\n",
        "#Melhorando a visualização\n",
        "#Código disponível em https://ai.google.dev/tutorials/python_quickstart#import_packages\n",
        "import textwrap\n",
        "from IPython.display import display\n",
        "from IPython.display import Markdown\n",
        "\n",
        "def to_markdown(text):\n",
        "  text = text.replace('•', '  *')\n",
        "  return Markdown(textwrap.indent(text, '> ', predicate=lambda _: True))\n",
        "\n",
        "#Imprimindo o histórico\n",
        "for message in chat.history:\n",
        "  display(to_markdown(f'**{message.role}** | {message.parts[0].text}'))\n",
        "  print('-------------------------------------------')"
      ]
    }
  ],
  "metadata": {
    "colab": {
      "provenance": [],
      "include_colab_link": true
    },
    "kernelspec": {
      "display_name": "Python 3",
      "name": "python3"
    },
    "language_info": {
      "name": "python"
    }
  },
  "nbformat": 4,
  "nbformat_minor": 0
}